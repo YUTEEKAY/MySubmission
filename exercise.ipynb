{
 "cells": [
  {
   "cell_type": "markdown",
   "id": "29212209-1fcb-4aad-afca-30ce784a9f83",
   "metadata": {},
   "source": [
    "# My Jupyter Notebook on IBM Watson Studio\n"
   ]
  },
  {
   "cell_type": "markdown",
   "id": "592eba99-845e-4a6a-b266-0ec872567484",
   "metadata": {},
   "source": [
    "**Umma Salama Ahmed Kyaure**\n",
    "Future Data Scientist"
   ]
  },
  {
   "cell_type": "markdown",
   "id": "ae6d5b36-7a5d-4e2b-b9c1-ff7b3959f65d",
   "metadata": {},
   "source": [
    " *Interested in Data Science because it is very interesting*"
   ]
  },
  {
   "cell_type": "markdown",
   "id": "5a6a466f-5ad1-4ff7-9aea-a9e218de9e8b",
   "metadata": {},
   "source": [
    "### The following codes are to be executed display an output"
   ]
  },
  {
   "cell_type": "code",
   "execution_count": 3,
   "id": "45b2402b-51af-4adc-b5a7-00d24d209a92",
   "metadata": {},
   "outputs": [
    {
     "name": "stdout",
     "output_type": "stream",
     "text": [
      "5\n"
     ]
    }
   ],
   "source": [
    "a=4\n",
    "b=1\n",
    "print(a + b)\n"
   ]
  },
  {
   "cell_type": "markdown",
   "id": "942ff991-0f23-4db0-8ef1-e922f8c3a160",
   "metadata": {},
   "source": [
    "-  Final question.\n",
    "2. has to include atleast 3 options.\n",
    "*** \n",
    "Thank you!"
   ]
  },
  {
   "cell_type": "code",
   "execution_count": null,
   "id": "1c2a7737-b5ae-49ae-af82-4d0766a90cc8",
   "metadata": {},
   "outputs": [],
   "source": []
  }
 ],
 "metadata": {
  "kernelspec": {
   "display_name": "Python 3 (ipykernel)",
   "language": "python",
   "name": "python3"
  },
  "language_info": {
   "codemirror_mode": {
    "name": "ipython",
    "version": 3
   },
   "file_extension": ".py",
   "mimetype": "text/x-python",
   "name": "python",
   "nbconvert_exporter": "python",
   "pygments_lexer": "ipython3",
   "version": "3.9.13"
  }
 },
 "nbformat": 4,
 "nbformat_minor": 5
}
